{
 "cells": [
  {
   "cell_type": "code",
   "execution_count": 1,
   "metadata": {},
   "outputs": [
    {
     "name": "stdout",
     "output_type": "stream",
     "text": [
      "Please enter path of the file.\n",
      "data_repository/Bernie_Sanders.csv\n"
     ]
    }
   ],
   "source": [
    "import configparser\n",
    "import io\n",
    "import os\n",
    "from functools import partial\n",
    "from hashlib import sha1\n",
    "\n",
    "import fastai\n",
    "import nltk\n",
    "import numpy as np\n",
    "import pandas as pd\n",
    "from fastai import *\n",
    "from fastai.text import *\n",
    "from nltk.corpus import stopwords\n",
    "from pymongo import MongoClient\n",
    "from sklearn.datasets import fetch_20newsgroups\n",
    "from sklearn.model_selection import train_test_split\n",
    "\n",
    "file_path = input('Please enter path of the file.\\n')\n",
    "df = pd.read_csv(\n",
    "    filepath_or_buffer=file_path,\n",
    "    header=None\n",
    ")\n"
   ]
  },
  {
   "cell_type": "code",
   "execution_count": 2,
   "metadata": {},
   "outputs": [
    {
     "name": "stdout",
     "output_type": "stream",
     "text": [
      "0    104\n",
      "2     56\n",
      "1     40\n",
      "Name: 1, dtype: int64\n",
      "(200, 2)\n",
      "   label                                               text\n",
      "0      0  RT  BernieWon      Bernie Sanders   I don t ne...\n",
      "1      2   AnandWrites Still Sanders       Looking at Be...\n",
      "2      2  RT  KyleKulinski  This video is incredible  Al...\n",
      "3      1                                See Bernie Sanders \n",
      "4      0  RT      Stonewall  https   t co NEiaBx glN Ber...\n",
      "(170, 2) (30, 2)\n"
     ]
    },
    {
     "name": "stderr",
     "output_type": "stream",
     "text": [
      "[nltk_data] Downloading package stopwords to\n",
      "[nltk_data]     /Users/aviralsrivastava/nltk_data...\n",
      "[nltk_data]   Package stopwords is already up-to-date!\n"
     ]
    },
    {
     "data": {
      "text/html": [],
      "text/plain": [
       "<IPython.core.display.HTML object>"
      ]
     },
     "metadata": {},
     "output_type": "display_data"
    },
    {
     "data": {
      "text/html": [],
      "text/plain": [
       "<IPython.core.display.HTML object>"
      ]
     },
     "metadata": {},
     "output_type": "display_data"
    },
    {
     "data": {
      "text/html": [],
      "text/plain": [
       "<IPython.core.display.HTML object>"
      ]
     },
     "metadata": {},
     "output_type": "display_data"
    },
    {
     "data": {
      "text/html": [],
      "text/plain": [
       "<IPython.core.display.HTML object>"
      ]
     },
     "metadata": {},
     "output_type": "display_data"
    },
    {
     "data": {
      "text/html": [
       "<table border=\"1\" class=\"dataframe\">\n",
       "  <thead>\n",
       "    <tr style=\"text-align: left;\">\n",
       "      <th>epoch</th>\n",
       "      <th>train_loss</th>\n",
       "      <th>valid_loss</th>\n",
       "      <th>accuracy</th>\n",
       "      <th>time</th>\n",
       "    </tr>\n",
       "  </thead>\n",
       "  <tbody>\n",
       "    <tr>\n",
       "      <td>0</td>\n",
       "      <td>5.488232</td>\n",
       "      <td>4.381335</td>\n",
       "      <td>0.328795</td>\n",
       "      <td>00:10</td>\n",
       "    </tr>\n",
       "  </tbody>\n",
       "</table>"
      ],
      "text/plain": [
       "<IPython.core.display.HTML object>"
      ]
     },
     "metadata": {},
     "output_type": "display_data"
    },
    {
     "data": {
      "text/html": [
       "<table border=\"1\" class=\"dataframe\">\n",
       "  <thead>\n",
       "    <tr style=\"text-align: left;\">\n",
       "      <th>epoch</th>\n",
       "      <th>train_loss</th>\n",
       "      <th>valid_loss</th>\n",
       "      <th>accuracy</th>\n",
       "      <th>time</th>\n",
       "    </tr>\n",
       "  </thead>\n",
       "  <tbody>\n",
       "    <tr>\n",
       "      <td>0</td>\n",
       "      <td>1.336202</td>\n",
       "      <td>1.104809</td>\n",
       "      <td>0.433333</td>\n",
       "      <td>00:11</td>\n",
       "    </tr>\n",
       "  </tbody>\n",
       "</table>"
      ],
      "text/plain": [
       "<IPython.core.display.HTML object>"
      ]
     },
     "metadata": {},
     "output_type": "display_data"
    }
   ],
   "source": [
    "# CATEGORISING THE SENTIMENT TABLE\n",
    "# NEUTRAL -> 0 | NEGATIVE -> 1 | POSITIVE -> 2\n",
    "df[1] = df[1].astype('category')\n",
    "df[1] = df[1].cat.codes\n",
    "\n",
    "# NUMBER OF SAMPLES FOR EACH CATEGORY\n",
    "print(df[1].value_counts())\n",
    "\n",
    "#df = pd.DataFrame({'label':dataset.target, 'text':dataset.data})\n",
    "df = pd.DataFrame({'label': df[1], 'text': df[0]})\n",
    "print(df.shape)\n",
    "\n",
    "df['text'] = df['text'].str.replace(\"[^a-zA-Z]\", \" \")\n",
    "print(df.head(5))\n",
    "\n",
    "nltk.download('stopwords')\n",
    "stop_words = stopwords.words('english')\n",
    "\n",
    "# tokenization\n",
    "tokenized_doc = df['text'].apply(lambda x: x.split())\n",
    "\n",
    "# remove stop-words\n",
    "tokenized_doc = tokenized_doc.apply(\n",
    "    lambda x: [item for item in x if item not in stop_words])\n",
    "\n",
    "# de-tokenization\n",
    "detokenized_doc = []\n",
    "for i in range(len(df)):\n",
    "    t = ' '.join(tokenized_doc[i])\n",
    "    detokenized_doc.append(t)\n",
    "\n",
    "df['text'] = detokenized_doc\n",
    "\n",
    "\n",
    "df_trn, df_val = train_test_split(\n",
    "    df, stratify=df['label'], test_size=0.15, random_state=12)\n",
    "print(df_trn.shape, df_val.shape)\n",
    "\n",
    "\n",
    "# Language model data\n",
    "data_lm = TextLMDataBunch.from_df(train_df=df_trn, valid_df=df_val, path=\"\")\n",
    "\n",
    "# Classifier model data\n",
    "data_clas = TextClasDataBunch.from_df(\n",
    "    path=\"\", train_df=df_trn, valid_df=df_val, vocab=data_lm.train_ds.vocab, bs=32)\n",
    "\n",
    "\n",
    "learn = language_model_learner(data_lm, arch=AWD_LSTM, drop_mult=0.7)\n",
    "\n",
    "# train the learner object with learning rate = 1e-2\n",
    "learn.fit_one_cycle(1, 1e-2)\n",
    "\n",
    "learn.save_encoder('ft_enc')\n",
    "\n",
    "\n",
    "learn = text_classifier_learner(data_clas, arch=AWD_LSTM, drop_mult=0.7)\n",
    "learn.load_encoder('ft_enc')\n",
    "\n",
    "\n",
    "learn.fit_one_cycle(1, 1e-2)\n"
   ]
  },
  {
   "cell_type": "code",
   "execution_count": 3,
   "metadata": {},
   "outputs": [
    {
     "data": {
      "text/html": [],
      "text/plain": [
       "<IPython.core.display.HTML object>"
      ]
     },
     "metadata": {},
     "output_type": "display_data"
    }
   ],
   "source": [
    "# get predictions\n",
    "preds, targets = learn.get_preds()\n",
    "\n",
    "predictions = np.argmax(preds, axis=1)\n",
    "pd.crosstab(predictions, targets)\n",
    "\n",
    "config = configparser.ConfigParser()\n",
    "config.read('config.txt')\n",
    "hash_tags_dict = dict(config['HASHTAGS'].items())\n",
    "for key in hash_tags_dict.keys():\n",
    "    source_collection = hash_tags_dict[key]\n",
    "\n",
    "\n",
    "client = MongoClient()\n",
    "db = client.phase3\n",
    "\n",
    "file_path = os.path.basename(file_path)\n",
    "collection_name = '{}'.format(file_path.replace('.', '_'))"
   ]
  },
  {
   "cell_type": "code",
   "execution_count": 5,
   "metadata": {},
   "outputs": [],
   "source": [
    "for i in range(1, len(df_val)+1):\n",
    "    tweet = df_val[i-1:i]['text'].array[0]\n",
    "    neutral = preds[i-1:i][0][0]\n",
    "    negative = preds[i-1:i][0][1]\n",
    "    positive = preds[i-1:i][0][2]\n",
    "    if neutral > positive and neutral > negative:\n",
    "        sentiment = 'neutral'\n",
    "    elif negative > neutral and negative > positive:\n",
    "        sentiment = 'negative'\n",
    "    else:\n",
    "        sentiment = 'positive'\n",
    "    db[collection_name].insert_one(\n",
    "        {\n",
    "            \"tweet\": tweet,\n",
    "            \"sentiment\": sentiment\n",
    "        }\n",
    "    )\n",
    "    if i % 100 == 0:\n",
    "        print(i)"
   ]
  },
  {
   "cell_type": "code",
   "execution_count": null,
   "metadata": {},
   "outputs": [],
   "source": []
  }
 ],
 "metadata": {
  "kernelspec": {
   "display_name": "Python 3",
   "language": "python",
   "name": "python3"
  },
  "language_info": {
   "codemirror_mode": {
    "name": "ipython",
    "version": 3
   },
   "file_extension": ".py",
   "mimetype": "text/x-python",
   "name": "python",
   "nbconvert_exporter": "python",
   "pygments_lexer": "ipython3",
   "version": "3.7.7"
  }
 },
 "nbformat": 4,
 "nbformat_minor": 2
}
